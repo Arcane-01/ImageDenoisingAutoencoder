{
  "nbformat": 4,
  "nbformat_minor": 0,
  "metadata": {
    "colab": {
      "name": "Autoencoder_denoising(CNN2).ipynb",
      "provenance": []
    },
    "kernelspec": {
      "name": "python3",
      "display_name": "Python 3"
    },
    "language_info": {
      "name": "python"
    },
    "accelerator": "GPU",
    "gpuClass": "standard"
  },
  "cells": [
    {
      "cell_type": "code",
      "metadata": {
        "colab": {
          "base_uri": "https://localhost:8080/"
        },
        "id": "OpTwhM-0exw1",
        "outputId": "8bb7f8a8-3204-406d-9bab-6f34a026731d"
      },
      "source": [
        "!nvcc --version"
      ],
      "execution_count": 21,
      "outputs": [
        {
          "output_type": "stream",
          "name": "stdout",
          "text": [
            "nvcc: NVIDIA (R) Cuda compiler driver\n",
            "Copyright (c) 2005-2020 NVIDIA Corporation\n",
            "Built on Mon_Oct_12_20:09:46_PDT_2020\n",
            "Cuda compilation tools, release 11.1, V11.1.105\n",
            "Build cuda_11.1.TC455_06.29190527_0\n"
          ]
        }
      ]
    },
    {
      "cell_type": "code",
      "metadata": {
        "id": "j20IuntPIFuP"
      },
      "source": [
        "import torch \n",
        "import torchvision\n",
        "import numpy as np\n",
        "import torch.nn as nn\n",
        "import torchvision.transforms as transforms\n",
        "import torch.optim as optim\n",
        "import matplotlib.pyplot as plt\n",
        "import torch.nn.functional as F\n",
        "from torchvision import datasets\n",
        "from torch.utils.data import DataLoader"
      ],
      "execution_count": 22,
      "outputs": []
    },
    {
      "cell_type": "code",
      "metadata": {
        "colab": {
          "base_uri": "https://localhost:8080/"
        },
        "id": "MF4Z0kUXiI53",
        "outputId": "17465238-4184-43a1-b47e-01ee9b217006"
      },
      "source": [
        "torch.cuda.is_available()"
      ],
      "execution_count": 23,
      "outputs": [
        {
          "output_type": "execute_result",
          "data": {
            "text/plain": [
              "True"
            ]
          },
          "metadata": {},
          "execution_count": 23
        }
      ]
    },
    {
      "cell_type": "code",
      "metadata": {
        "colab": {
          "base_uri": "https://localhost:8080/"
        },
        "id": "ubBpLd-4XwaE",
        "outputId": "9dcf1a4b-52a7-4c87-cb77-9386a4b83e89"
      },
      "source": [
        "device = torch.device('cuda' if torch.cuda.is_available() else 'cpu')\n",
        "print(device)"
      ],
      "execution_count": 24,
      "outputs": [
        {
          "output_type": "stream",
          "name": "stdout",
          "text": [
            "cuda\n"
          ]
        }
      ]
    },
    {
      "cell_type": "code",
      "metadata": {
        "id": "3wqxf2FhSQv7"
      },
      "source": [
        "learning_rate = 1e-3\n",
        "batch_size = 64\n",
        "num_epochs = 20\n",
        "noise_factor = 0.5"
      ],
      "execution_count": 25,
      "outputs": []
    },
    {
      "cell_type": "code",
      "metadata": {
        "id": "HVl7ee1OCZna"
      },
      "source": [
        "# transform = transforms.Compose([transforms.ToTensor(),transforms.Normalize((0.5), (0.5))])\n",
        "transform = transforms.ToTensor()\n",
        "trainset = datasets.MNIST(root='./data',train=True, download=True,transform=transform)\n",
        "testset = datasets.MNIST(root='./data',train=False,download=True,transform=transform)\n",
        "trainloader = DataLoader(trainset, batch_size=batch_size,shuffle=True)\n",
        "testloader = DataLoader(testset, batch_size=batch_size, shuffle=True)"
      ],
      "execution_count": 26,
      "outputs": []
    },
    {
      "cell_type": "code",
      "metadata": {
        "id": "mzWPC7RUSM4X"
      },
      "source": [
        "def addnoise(img,noise_factor):\n",
        "  img_noisy = img + noise_factor * torch.randn(img.shape)\n",
        "  # img_noisy = np.clip(img_noisy, 0., 1.)\n",
        "  return img_noisy"
      ],
      "execution_count": 27,
      "outputs": []
    },
    {
      "cell_type": "code",
      "metadata": {
        "id": "69X9zUw2K87J"
      },
      "source": [
        "class Autoencoder(nn.Module):\n",
        "  def __init__(self):\n",
        "    \n",
        "    super().__init__()\n",
        "    self.encoder = nn.Sequential(\n",
        "      nn.Conv2d(1,16,3, stride = 2, padding = 1),\n",
        "      nn.ReLU(),\n",
        "      nn.Conv2d(16,32,3, stride = 2, padding = 1),\n",
        "      nn.ReLU(),\n",
        "      nn.Conv2d(32,64,7)\n",
        "    )\n",
        "    \n",
        "    self.decoder = nn.Sequential(\n",
        "      nn.ConvTranspose2d(64,32,7), \n",
        "      nn.ReLU(),\n",
        "      nn.ConvTranspose2d(32,16,3, stride = 2, padding=1, output_padding = 1),\n",
        "      nn.ReLU(),\n",
        "      nn.ConvTranspose2d(16,1,3, stride = 2, padding=1, output_padding = 1),\n",
        "      nn.Sigmoid()\n",
        "  )\n",
        "\n",
        "  def forward(self,input):\n",
        "    encoded_img = self.encoder(input)\n",
        "    decoded_img = self.decoder(encoded_img)\n",
        "    return decoded_img"
      ],
      "execution_count": 28,
      "outputs": []
    },
    {
      "cell_type": "code",
      "source": [
        "net = Autoencoder()\n",
        "criterion = nn.MSELoss()\n",
        "optimizer = torch.optim.Adam(net.parameters(), lr = learning_rate, weight_decay= 1e-5)\n"
      ],
      "metadata": {
        "id": "M-QnExE71ETH"
      },
      "execution_count": 29,
      "outputs": []
    },
    {
      "cell_type": "code",
      "metadata": {
        "id": "Ajr7B_nttiqb",
        "colab": {
          "base_uri": "https://localhost:8080/"
        },
        "outputId": "2f1a3298-647b-4645-9544-44aff64df891"
      },
      "source": [
        "net.to(device)"
      ],
      "execution_count": 30,
      "outputs": [
        {
          "output_type": "execute_result",
          "data": {
            "text/plain": [
              "Autoencoder(\n",
              "  (encoder): Sequential(\n",
              "    (0): Conv2d(1, 16, kernel_size=(3, 3), stride=(2, 2), padding=(1, 1))\n",
              "    (1): ReLU()\n",
              "    (2): Conv2d(16, 32, kernel_size=(3, 3), stride=(2, 2), padding=(1, 1))\n",
              "    (3): ReLU()\n",
              "    (4): Conv2d(32, 64, kernel_size=(7, 7), stride=(1, 1))\n",
              "  )\n",
              "  (decoder): Sequential(\n",
              "    (0): ConvTranspose2d(64, 32, kernel_size=(7, 7), stride=(1, 1))\n",
              "    (1): ReLU()\n",
              "    (2): ConvTranspose2d(32, 16, kernel_size=(3, 3), stride=(2, 2), padding=(1, 1), output_padding=(1, 1))\n",
              "    (3): ReLU()\n",
              "    (4): ConvTranspose2d(16, 1, kernel_size=(3, 3), stride=(2, 2), padding=(1, 1), output_padding=(1, 1))\n",
              "    (5): Sigmoid()\n",
              "  )\n",
              ")"
            ]
          },
          "metadata": {},
          "execution_count": 30
        }
      ]
    },
    {
      "cell_type": "code",
      "metadata": {
        "id": "Th3qOSzlrHg6",
        "colab": {
          "base_uri": "https://localhost:8080/"
        },
        "outputId": "ac205e78-f930-45b7-bd26-470341e37648"
      },
      "source": [
        "train_loss = []\n",
        "for epoch in range(num_epochs):\n",
        "  curr_loss = 0\n",
        "  for (img,_) in trainloader:\n",
        "    img_noisy = addnoise(img,0.5)\n",
        "    img_noisy = img_noisy.to(device)\n",
        "    img = img.to(device)\n",
        "    output = net(img_noisy)\n",
        "    loss = criterion(output,img)\n",
        "\n",
        "    optimizer.zero_grad()\n",
        "    loss.backward()\n",
        "    optimizer.step()\n",
        "    train_loss.append(loss.item())\n",
        "\n",
        "  print(f'Epoch:{epoch+1}/{num_epochs}, Loss:{loss.item():.3f}')"
      ],
      "execution_count": 31,
      "outputs": [
        {
          "output_type": "stream",
          "name": "stdout",
          "text": [
            "Epoch:1/20, Loss:0.020\n",
            "Epoch:2/20, Loss:0.016\n",
            "Epoch:3/20, Loss:0.011\n",
            "Epoch:4/20, Loss:0.011\n",
            "Epoch:5/20, Loss:0.011\n",
            "Epoch:6/20, Loss:0.012\n",
            "Epoch:7/20, Loss:0.012\n",
            "Epoch:8/20, Loss:0.011\n",
            "Epoch:9/20, Loss:0.009\n",
            "Epoch:10/20, Loss:0.011\n",
            "Epoch:11/20, Loss:0.011\n",
            "Epoch:12/20, Loss:0.009\n",
            "Epoch:13/20, Loss:0.011\n",
            "Epoch:14/20, Loss:0.009\n",
            "Epoch:15/20, Loss:0.011\n",
            "Epoch:16/20, Loss:0.010\n",
            "Epoch:17/20, Loss:0.012\n",
            "Epoch:18/20, Loss:0.012\n",
            "Epoch:19/20, Loss:0.009\n",
            "Epoch:20/20, Loss:0.011\n"
          ]
        }
      ]
    },
    {
      "cell_type": "code",
      "metadata": {
        "id": "EqPSy7wnCfKR"
      },
      "source": [
        "# print(train_loss)\n"
      ],
      "execution_count": 32,
      "outputs": []
    },
    {
      "cell_type": "code",
      "metadata": {
        "id": "2_rLKsMeEPEz",
        "colab": {
          "base_uri": "https://localhost:8080/",
          "height": 312
        },
        "outputId": "a139ba5e-2b2e-459a-ac1f-2485c3c61b4c"
      },
      "source": [
        "plt.plot(train_loss)\n",
        "plt.title(\"Training Loss\")\n",
        "plt.xlabel(\"iterations\")\n",
        "plt.ylabel(\"loss\")"
      ],
      "execution_count": 33,
      "outputs": [
        {
          "output_type": "execute_result",
          "data": {
            "text/plain": [
              "Text(0, 0.5, 'loss')"
            ]
          },
          "metadata": {},
          "execution_count": 33
        },
        {
          "output_type": "display_data",
          "data": {
            "text/plain": [
              "<Figure size 432x288 with 1 Axes>"
            ],
            "image/png": "[encoded data removed]"
          },
          "metadata": {
            "needs_background": "light"
          }
        }
      ]
    },
    {
      "cell_type": "code",
      "metadata": {
        "id": "gFyqb04T2r3J"
      },
      "source": [
        "img_noisy = img_noisy.cpu()\n",
        "output = output.cpu()\n",
        "img = img.cpu()\n"
      ],
      "execution_count": 34,
      "outputs": []
    },
    {
      "cell_type": "code",
      "metadata": {
        "id": "2AZOrFHsMFWE"
      },
      "source": [
        "img  = img.reshape(-1,28,28)\n",
        "img  = img.detach().numpy()"
      ],
      "execution_count": 35,
      "outputs": []
    },
    {
      "cell_type": "code",
      "metadata": {
        "id": "G8TP2E1Nnq3g"
      },
      "source": [
        "img_noisy  = img_noisy.reshape(-1,28,28)\n",
        "img_noisy  = img_noisy.detach().numpy()\n",
        "  "
      ],
      "execution_count": 36,
      "outputs": []
    },
    {
      "cell_type": "code",
      "metadata": {
        "id": "cHb6CviKoR_x"
      },
      "source": [
        "output = output.detach().numpy()\n",
        "output = output.reshape(-1,28,28)"
      ],
      "execution_count": 37,
      "outputs": []
    },
    {
      "cell_type": "code",
      "source": [
        "flatten = nn.Flatten()\n",
        "def cosine_similarity(inputs, targets):\n",
        "    inputs = flatten(inputs).detach().cpu().numpy()\n",
        "    inputs = inputs / np.linalg.norm(inputs)\n",
        "    targets = flatten(targets).detach().cpu().numpy()\n",
        "    targets = targets / np.linalg.norm(targets)\n",
        "    products = inputs.dot(targets.T)\n",
        "    return products "
      ],
      "metadata": {
        "id": "NpRqH8u6v7hd"
      },
      "execution_count": 38,
      "outputs": []
    },
    {
      "cell_type": "code",
      "source": [
        "iterer = next(iter(testset))\n",
        "total = 0\n",
        "sum = 0\n",
        "with torch.no_grad():\n",
        "  for i in iterer[0]:\n",
        "    total += 1\n",
        "    \n",
        "    i = i.to(device).reshape((1,i.shape[0],i.shape[1]))\n",
        "    sum += cosine_similarity(net(i.to(device)), i)\n",
        "  print(sum/total)"
      ],
      "metadata": {
        "id": "cKvmd_yQv8J9",
        "colab": {
          "base_uri": "https://localhost:8080/"
        },
        "outputId": "f90e6295-1a0d-42a7-a741-8bfcaf3f4e2a"
      },
      "execution_count": 39,
      "outputs": [
        {
          "output_type": "stream",
          "name": "stdout",
          "text": [
            "[[0.9815]]\n"
          ]
        }
      ]
    },
    {
      "cell_type": "code",
      "metadata": {
        "id": "Eg6fCkb42g-J",
        "colab": {
          "base_uri": "https://localhost:8080/",
          "height": 269
        },
        "outputId": "6a21eaaf-8355-410c-a55f-36a15604eb65"
      },
      "source": [
        "for i in range(1,6):\n",
        "  #plt.figure(figsize=(10,10))\n",
        "  plt.subplot(5,3,(i*3)-2)\n",
        "  plt.imshow(img[i],cmap='gray')\n",
        "\n",
        "\n",
        "for i in range(1,6):\n",
        "  # plt.figure(figsize=(10,10))\n",
        "  plt.subplot(5,3,(i*3)-1)\n",
        "  plt.imshow(img_noisy[i],cmap='gray')\n",
        "  # plt.figure(figsize=(1,1))\n",
        "for j in range(1,6):\n",
        "  # plt.figure(figsize=(10,10))\n",
        "  plt.subplot(5,3,j*3)\n",
        "  plt.imshow(output[j],cmap='gray')\n",
        "  # plt.figure(figsize=(1,1))\n"
      ],
      "execution_count": 40,
      "outputs": [
        {
          "output_type": "display_data",
          "data": {
            "text/plain": [
              "<Figure size 432x288 with 15 Axes>"
            ],
            "image/png": "[encoded data removed]"
          },
          "metadata": {
            "needs_background": "light"
          }
        }
      ]
    }
  ]
}